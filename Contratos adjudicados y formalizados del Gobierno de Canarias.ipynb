{
 "cells": [
  {
   "cell_type": "markdown",
   "id": "f7c5f371",
   "metadata": {},
   "source": [
    "# Contratos adjudicados y formalizados del Gobierno de Canarias\n",
    "Contratos, adjudicados y formalizados, por las entidades y órganos de contratación del Gobierno de Canarias, y publicados en la plataforma de contratación del sector público, desde el 1 de enero de 2020 hasta el primer trimestre de 2023.\n",
    "\n",
    "ACCESO A LA FUENTE DE DATOS:\n",
    "https://datos.canarias.es/catalogos/general/dataset/contratos-adjudicados-y-formalizados-del-gobierno-de-canarias\n",
    "\n",
    "Datos facilitados por Consejería de Hacienda, Presupuestos y Asuntos Europeos del Gobierno de Canarias."
   ]
  },
  {
   "cell_type": "markdown",
   "id": "a371b67b",
   "metadata": {},
   "source": [
    "### OBJETIVOS\n",
    "\n",
    "Trataremos de limpiar y ordenar el conjunto de datos para dar respuesta a las siguientes preguntas:\n",
    "\n",
    "\n",
    "- [¿Cuál es el monto total de contratos adjudicados y formalizados en el período de tiempo estudiado?](#pregunta1)\n",
    "\n",
    "\n",
    "- [¿Cuántos contratos se adjudicaron en cada uno de los años del período de tiempo estudiado?](#pregunta2)\n",
    "\n",
    "\n",
    "- Antes de responder la siguiente pregunta, analizamos la distibución de la variable \"`importe_ofertado`\" [aquí](#analisis)\n",
    "\n",
    "\n",
    "- [¿Qué empresas han obtenido los contratos de mayor valor en el período de tiempo estudiado y cuál es su porcentaje sobre el total?](#pregunta3)\n",
    "\n",
    "\n",
    "- [¿Qué empresas han obtenido el mayor número de contratos adjudicados y cuál es su porcentaje respecto al total?](#pregunta4)\n",
    "\n",
    "\n",
    "- [Resumen.](#resumen)\n",
    "\n",
    "\n",
    "- [Consideraciones finales.](#consideraciones)"
   ]
  },
  {
   "cell_type": "markdown",
   "id": "97b91c31",
   "metadata": {},
   "source": [
    "##### Cargando los datos\n",
    "Primero, es necesario cargar los datos en Jupyter Notebook. Usamos la libreria Pandas para importar los datos del archivo con formato CSV, visualizamos las cinco primeras filas de la tabla de datos."
   ]
  },
  {
   "cell_type": "code",
   "execution_count": 1,
   "id": "919e021e",
   "metadata": {},
   "outputs": [],
   "source": [
    "import pandas as pd"
   ]
  },
  {
   "cell_type": "code",
   "execution_count": 2,
   "id": "3a339f0b",
   "metadata": {
    "scrolled": true
   },
   "outputs": [
    {
     "data": {
      "text/html": [
       "<div>\n",
       "<style scoped>\n",
       "    .dataframe tbody tr th:only-of-type {\n",
       "        vertical-align: middle;\n",
       "    }\n",
       "\n",
       "    .dataframe tbody tr th {\n",
       "        vertical-align: top;\n",
       "    }\n",
       "\n",
       "    .dataframe thead th {\n",
       "        text-align: right;\n",
       "    }\n",
       "</style>\n",
       "<table border=\"1\" class=\"dataframe\">\n",
       "  <thead>\n",
       "    <tr style=\"text-align: right;\">\n",
       "      <th></th>\n",
       "      <th>objeto_contrato</th>\n",
       "      <th>entidad_adjudicadora</th>\n",
       "      <th>procedimiento_contratacion</th>\n",
       "      <th>tramitacion_tipo</th>\n",
       "      <th>lote</th>\n",
       "      <th>adjudicacion_fecha</th>\n",
       "      <th>adjudicataria_nif</th>\n",
       "      <th>importe_ofertado</th>\n",
       "      <th>expediente_numero</th>\n",
       "      <th>licitacion_enlace</th>\n",
       "      <th>...</th>\n",
       "      <th>publicacion_fecha</th>\n",
       "      <th>publicacion_medio</th>\n",
       "      <th>licitacion_resultado</th>\n",
       "      <th>pliego_enlace</th>\n",
       "      <th>perfil_contratante_enlace</th>\n",
       "      <th>financiacion_europea</th>\n",
       "      <th>fuente_financiacion_id</th>\n",
       "      <th>fuente_financiacion</th>\n",
       "      <th>localizador_programa_ue</th>\n",
       "      <th>formula_revision_precios</th>\n",
       "    </tr>\n",
       "  </thead>\n",
       "  <tbody>\n",
       "    <tr>\n",
       "      <th>0</th>\n",
       "      <td>Servicio de  \"Actualización de los Mapas Estra...</td>\n",
       "      <td>Dirección General de Infraestructura Viaria de...</td>\n",
       "      <td>Abierto</td>\n",
       "      <td>Ordinaria</td>\n",
       "      <td>_Z</td>\n",
       "      <td>2021/03/14 00:00:00.000</td>\n",
       "      <td>A39074877</td>\n",
       "      <td>165815,2</td>\n",
       "      <td>OP-05/2018 Servicio Actualización Mapas Ruidos</td>\n",
       "      <td>https://contrataciondelestado.es/wps/poc?uri=d...</td>\n",
       "      <td>...</td>\n",
       "      <td>2018/12/29 00:00:00.000</td>\n",
       "      <td>DOUE</td>\n",
       "      <td>Adjudicado</td>\n",
       "      <td>https://contrataciondelestado.es/wps/wcm/conne...</td>\n",
       "      <td>https://contrataciondelestado.es/sindicacion/C...</td>\n",
       "      <td>NO</td>\n",
       "      <td>_U</td>\n",
       "      <td>_U</td>\n",
       "      <td>_U</td>\n",
       "      <td>_U</td>\n",
       "    </tr>\n",
       "    <tr>\n",
       "      <th>1</th>\n",
       "      <td>Suministro con instalación y puesta en marcha ...</td>\n",
       "      <td>Instituto Tecnológico de Canarias S.A.</td>\n",
       "      <td>Abierto</td>\n",
       "      <td>Ordinaria</td>\n",
       "      <td>_Z</td>\n",
       "      <td>2020/01/22 00:00:00.000</td>\n",
       "      <td>B76248962</td>\n",
       "      <td>103000,0</td>\n",
       "      <td>0867/2019</td>\n",
       "      <td>https://contrataciondelestado.es/wps/poc?uri=d...</td>\n",
       "      <td>...</td>\n",
       "      <td>2020/01/22 00:00:00.000</td>\n",
       "      <td>Perfil del Contratante</td>\n",
       "      <td>Adjudicado</td>\n",
       "      <td>https://contrataciondelestado.es/wps/wcm/conne...</td>\n",
       "      <td>https://contrataciondelestado.es/sindicacion/C...</td>\n",
       "      <td>SI</td>\n",
       "      <td>_U</td>\n",
       "      <td>_U</td>\n",
       "      <td>Programa Operativo FEDER Canarias 2014-2020</td>\n",
       "      <td>No existirá revisión de precios en el presente...</td>\n",
       "    </tr>\n",
       "    <tr>\n",
       "      <th>2</th>\n",
       "      <td>El objeto del contrato es  la prestación de un...</td>\n",
       "      <td>Dirección General de Ordenación, Innovación y ...</td>\n",
       "      <td>Abierto simplificado</td>\n",
       "      <td>Ordinaria</td>\n",
       "      <td>_Z</td>\n",
       "      <td>2020/01/22 00:00:00.000</td>\n",
       "      <td>A78562246</td>\n",
       "      <td>31860,0</td>\n",
       "      <td>2/2019</td>\n",
       "      <td>https://contrataciondelestado.es/wps/poc?uri=d...</td>\n",
       "      <td>...</td>\n",
       "      <td>2020/01/22 00:00:00.000</td>\n",
       "      <td>Perfil del Contratante</td>\n",
       "      <td>Adjudicado</td>\n",
       "      <td>https://contrataciondelestado.es/wps/wcm/conne...</td>\n",
       "      <td>https://contrataciondelestado.es/sindicacion/C...</td>\n",
       "      <td>NO</td>\n",
       "      <td>_U</td>\n",
       "      <td>_U</td>\n",
       "      <td>_U</td>\n",
       "      <td>Dada la naturaleza del servicio, y de conformi...</td>\n",
       "    </tr>\n",
       "    <tr>\n",
       "      <th>3</th>\n",
       "      <td>Suministro productos laboratorio: set DNTPS y ...</td>\n",
       "      <td>Presidencia del Instituto canario de Investiga...</td>\n",
       "      <td>Contrato menor</td>\n",
       "      <td>Ordinaria</td>\n",
       "      <td>_Z</td>\n",
       "      <td>2020/07/10 00:00:00.000</td>\n",
       "      <td>A35368539</td>\n",
       "      <td>370,5</td>\n",
       "      <td>RC0000095125/2020</td>\n",
       "      <td>https://contrataciondelestado.es/wps/poc?uri=d...</td>\n",
       "      <td>...</td>\n",
       "      <td>2020/09/11 00:00:00.000</td>\n",
       "      <td>Perfil del Contratante</td>\n",
       "      <td>Adjudicado</td>\n",
       "      <td>_U</td>\n",
       "      <td>https://contrataciondelestado.es/sindicacion/C...</td>\n",
       "      <td>NO</td>\n",
       "      <td>_U</td>\n",
       "      <td>_U</td>\n",
       "      <td>_U</td>\n",
       "      <td>_U</td>\n",
       "    </tr>\n",
       "    <tr>\n",
       "      <th>4</th>\n",
       "      <td>Suministro de medicamentos de uso humano de va...</td>\n",
       "      <td>Gerencia de Servicios Sanitarios del Área de S...</td>\n",
       "      <td>Negociado sin publicidad</td>\n",
       "      <td>Ordinaria</td>\n",
       "      <td>1</td>\n",
       "      <td>2020/01/08 00:00:00.000</td>\n",
       "      <td>A60805785</td>\n",
       "      <td>18960,0</td>\n",
       "      <td>52/F/20/SU/GE/N/016</td>\n",
       "      <td>https://contrataciondelestado.es/wps/poc?uri=d...</td>\n",
       "      <td>...</td>\n",
       "      <td>2020/01/08 00:00:00.000</td>\n",
       "      <td>Perfil del Contratante</td>\n",
       "      <td>Adjudicado</td>\n",
       "      <td>https://contrataciondelestado.es/wps/wcm/conne...</td>\n",
       "      <td>https://contrataciondelestado.es/sindicacion/C...</td>\n",
       "      <td>_U</td>\n",
       "      <td>_U</td>\n",
       "      <td>_U</td>\n",
       "      <td>_U</td>\n",
       "      <td>_U</td>\n",
       "    </tr>\n",
       "  </tbody>\n",
       "</table>\n",
       "<p>5 rows × 23 columns</p>\n",
       "</div>"
      ],
      "text/plain": [
       "                                     objeto_contrato  \\\n",
       "0  Servicio de  \"Actualización de los Mapas Estra...   \n",
       "1  Suministro con instalación y puesta en marcha ...   \n",
       "2  El objeto del contrato es  la prestación de un...   \n",
       "3  Suministro productos laboratorio: set DNTPS y ...   \n",
       "4  Suministro de medicamentos de uso humano de va...   \n",
       "\n",
       "                                entidad_adjudicadora  \\\n",
       "0  Dirección General de Infraestructura Viaria de...   \n",
       "1             Instituto Tecnológico de Canarias S.A.   \n",
       "2  Dirección General de Ordenación, Innovación y ...   \n",
       "3  Presidencia del Instituto canario de Investiga...   \n",
       "4  Gerencia de Servicios Sanitarios del Área de S...   \n",
       "\n",
       "  procedimiento_contratacion tramitacion_tipo lote       adjudicacion_fecha  \\\n",
       "0                    Abierto        Ordinaria   _Z  2021/03/14 00:00:00.000   \n",
       "1                    Abierto        Ordinaria   _Z  2020/01/22 00:00:00.000   \n",
       "2       Abierto simplificado        Ordinaria   _Z  2020/01/22 00:00:00.000   \n",
       "3             Contrato menor        Ordinaria   _Z  2020/07/10 00:00:00.000   \n",
       "4   Negociado sin publicidad        Ordinaria    1  2020/01/08 00:00:00.000   \n",
       "\n",
       "  adjudicataria_nif importe_ofertado  \\\n",
       "0         A39074877         165815,2   \n",
       "1         B76248962         103000,0   \n",
       "2         A78562246          31860,0   \n",
       "3         A35368539            370,5   \n",
       "4         A60805785          18960,0   \n",
       "\n",
       "                                expediente_numero  \\\n",
       "0  OP-05/2018 Servicio Actualización Mapas Ruidos   \n",
       "1                                       0867/2019   \n",
       "2                                          2/2019   \n",
       "3                               RC0000095125/2020   \n",
       "4                             52/F/20/SU/GE/N/016   \n",
       "\n",
       "                                   licitacion_enlace  ...  \\\n",
       "0  https://contrataciondelestado.es/wps/poc?uri=d...  ...   \n",
       "1  https://contrataciondelestado.es/wps/poc?uri=d...  ...   \n",
       "2  https://contrataciondelestado.es/wps/poc?uri=d...  ...   \n",
       "3  https://contrataciondelestado.es/wps/poc?uri=d...  ...   \n",
       "4  https://contrataciondelestado.es/wps/poc?uri=d...  ...   \n",
       "\n",
       "         publicacion_fecha       publicacion_medio licitacion_resultado  \\\n",
       "0  2018/12/29 00:00:00.000                    DOUE           Adjudicado   \n",
       "1  2020/01/22 00:00:00.000  Perfil del Contratante           Adjudicado   \n",
       "2  2020/01/22 00:00:00.000  Perfil del Contratante           Adjudicado   \n",
       "3  2020/09/11 00:00:00.000  Perfil del Contratante           Adjudicado   \n",
       "4  2020/01/08 00:00:00.000  Perfil del Contratante           Adjudicado   \n",
       "\n",
       "                                       pliego_enlace  \\\n",
       "0  https://contrataciondelestado.es/wps/wcm/conne...   \n",
       "1  https://contrataciondelestado.es/wps/wcm/conne...   \n",
       "2  https://contrataciondelestado.es/wps/wcm/conne...   \n",
       "3                                                 _U   \n",
       "4  https://contrataciondelestado.es/wps/wcm/conne...   \n",
       "\n",
       "                           perfil_contratante_enlace financiacion_europea  \\\n",
       "0  https://contrataciondelestado.es/sindicacion/C...                   NO   \n",
       "1  https://contrataciondelestado.es/sindicacion/C...                   SI   \n",
       "2  https://contrataciondelestado.es/sindicacion/C...                   NO   \n",
       "3  https://contrataciondelestado.es/sindicacion/C...                   NO   \n",
       "4  https://contrataciondelestado.es/sindicacion/C...                   _U   \n",
       "\n",
       "  fuente_financiacion_id fuente_financiacion  \\\n",
       "0                     _U                  _U   \n",
       "1                     _U                  _U   \n",
       "2                     _U                  _U   \n",
       "3                     _U                  _U   \n",
       "4                     _U                  _U   \n",
       "\n",
       "                       localizador_programa_ue  \\\n",
       "0                                           _U   \n",
       "1  Programa Operativo FEDER Canarias 2014-2020   \n",
       "2                                           _U   \n",
       "3                                           _U   \n",
       "4                                           _U   \n",
       "\n",
       "                            formula_revision_precios  \n",
       "0                                                 _U  \n",
       "1  No existirá revisión de precios en el presente...  \n",
       "2  Dada la naturaleza del servicio, y de conformi...  \n",
       "3                                                 _U  \n",
       "4                                                 _U  \n",
       "\n",
       "[5 rows x 23 columns]"
      ]
     },
     "execution_count": 2,
     "metadata": {},
     "output_type": "execute_result"
    }
   ],
   "source": [
    "df = pd.read_csv(r\"C:\\Users\\josue\\Desktop\\Data Science\\Codecademy\\Projects\\Contratos adjudicados y formalizados del Gobierno de Canarias\\contratos_desde_01_01_2021.csv\", sep=';')\n",
    "\n",
    "df.head()"
   ]
  },
  {
   "cell_type": "markdown",
   "id": "7882dc76",
   "metadata": {},
   "source": [
    "El formato de un \"Dataframe\" puede compararse con los diccionarios de Python. Las claves son los nombres de las columnas y los valores son las **series**. Su estructura puede considerarse similar a la de una hoja de cálculo de Excel.\n",
    "\n",
    "Cada fila contiene datos específicos de varias columnas, que son variables. El nombre de las filas de un DataFrame se llama **index** que, por defecto, empieza siempre por 0."
   ]
  },
  {
   "cell_type": "code",
   "execution_count": 3,
   "id": "3a722297",
   "metadata": {
    "scrolled": true
   },
   "outputs": [
    {
     "name": "stdout",
     "output_type": "stream",
     "text": [
      "<class 'pandas.core.frame.DataFrame'>\n",
      "RangeIndex: 42831 entries, 0 to 42830\n",
      "Data columns (total 23 columns):\n",
      " #   Column                      Non-Null Count  Dtype \n",
      "---  ------                      --------------  ----- \n",
      " 0   objeto_contrato             42831 non-null  object\n",
      " 1   entidad_adjudicadora        42831 non-null  object\n",
      " 2   procedimiento_contratacion  42831 non-null  object\n",
      " 3   tramitacion_tipo            42831 non-null  object\n",
      " 4   lote                        42831 non-null  object\n",
      " 5   adjudicacion_fecha          42831 non-null  object\n",
      " 6   adjudicataria_nif           42831 non-null  object\n",
      " 7   importe_ofertado            42831 non-null  object\n",
      " 8   expediente_numero           42831 non-null  object\n",
      " 9   licitacion_enlace           42831 non-null  object\n",
      " 10  licitacion_estado           42831 non-null  object\n",
      " 11  clasificacion_cpv           42831 non-null  object\n",
      " 12  contrato_tipo               42831 non-null  object\n",
      " 13  publicacion_fecha           42831 non-null  object\n",
      " 14  publicacion_medio           42831 non-null  object\n",
      " 15  licitacion_resultado        42831 non-null  object\n",
      " 16  pliego_enlace               42831 non-null  object\n",
      " 17  perfil_contratante_enlace   42831 non-null  object\n",
      " 18  financiacion_europea        42831 non-null  object\n",
      " 19  fuente_financiacion_id      42831 non-null  object\n",
      " 20  fuente_financiacion         42831 non-null  object\n",
      " 21  localizador_programa_ue     42831 non-null  object\n",
      " 22  formula_revision_precios    42831 non-null  object\n",
      "dtypes: object(23)\n",
      "memory usage: 7.5+ MB\n"
     ]
    }
   ],
   "source": [
    "df.info()"
   ]
  },
  {
   "cell_type": "markdown",
   "id": "7fc854b0",
   "metadata": {},
   "source": [
    "##### Información de los datos\n",
    "\n",
    "\n",
    "A grandes rasgos podemos observar que:\n",
    "\n",
    "- Contiene 23 columnas y 42.830 filas.\n",
    "\n",
    "- La mayoría de las variables son categóricas.\n",
    "\n",
    "- La columma `\"importe_ofertado\"` y `\"adjudicacion_fecha\"` no están en el formato que nos interesa.\n",
    "\n",
    "- Los nombres de las columnas son conscistentes por lo que no necesitamos aplicar cambios.\n",
    "\n",
    "A continuación, aplicaremos el metodo `\"describe\"` de la libreria Pandas para resumir los principales datos estadísticos."
   ]
  },
  {
   "cell_type": "code",
   "execution_count": 4,
   "id": "e944776a",
   "metadata": {
    "scrolled": true
   },
   "outputs": [
    {
     "data": {
      "text/html": [
       "<div>\n",
       "<style scoped>\n",
       "    .dataframe tbody tr th:only-of-type {\n",
       "        vertical-align: middle;\n",
       "    }\n",
       "\n",
       "    .dataframe tbody tr th {\n",
       "        vertical-align: top;\n",
       "    }\n",
       "\n",
       "    .dataframe thead th {\n",
       "        text-align: right;\n",
       "    }\n",
       "</style>\n",
       "<table border=\"1\" class=\"dataframe\">\n",
       "  <thead>\n",
       "    <tr style=\"text-align: right;\">\n",
       "      <th></th>\n",
       "      <th>objeto_contrato</th>\n",
       "      <th>entidad_adjudicadora</th>\n",
       "      <th>procedimiento_contratacion</th>\n",
       "      <th>tramitacion_tipo</th>\n",
       "      <th>lote</th>\n",
       "      <th>adjudicacion_fecha</th>\n",
       "      <th>adjudicataria_nif</th>\n",
       "      <th>importe_ofertado</th>\n",
       "      <th>expediente_numero</th>\n",
       "      <th>licitacion_enlace</th>\n",
       "      <th>...</th>\n",
       "      <th>publicacion_fecha</th>\n",
       "      <th>publicacion_medio</th>\n",
       "      <th>licitacion_resultado</th>\n",
       "      <th>pliego_enlace</th>\n",
       "      <th>perfil_contratante_enlace</th>\n",
       "      <th>financiacion_europea</th>\n",
       "      <th>fuente_financiacion_id</th>\n",
       "      <th>fuente_financiacion</th>\n",
       "      <th>localizador_programa_ue</th>\n",
       "      <th>formula_revision_precios</th>\n",
       "    </tr>\n",
       "  </thead>\n",
       "  <tbody>\n",
       "    <tr>\n",
       "      <th>count</th>\n",
       "      <td>42831</td>\n",
       "      <td>42831</td>\n",
       "      <td>42831</td>\n",
       "      <td>42831</td>\n",
       "      <td>42831</td>\n",
       "      <td>42831</td>\n",
       "      <td>42831</td>\n",
       "      <td>42831</td>\n",
       "      <td>42831</td>\n",
       "      <td>42831</td>\n",
       "      <td>...</td>\n",
       "      <td>42831</td>\n",
       "      <td>42831</td>\n",
       "      <td>42831</td>\n",
       "      <td>42831</td>\n",
       "      <td>42831</td>\n",
       "      <td>42831</td>\n",
       "      <td>42831</td>\n",
       "      <td>42831</td>\n",
       "      <td>42831</td>\n",
       "      <td>42831</td>\n",
       "    </tr>\n",
       "    <tr>\n",
       "      <th>unique</th>\n",
       "      <td>32948</td>\n",
       "      <td>167</td>\n",
       "      <td>8</td>\n",
       "      <td>4</td>\n",
       "      <td>317</td>\n",
       "      <td>1095</td>\n",
       "      <td>9268</td>\n",
       "      <td>25187</td>\n",
       "      <td>37067</td>\n",
       "      <td>37549</td>\n",
       "      <td>...</td>\n",
       "      <td>1026</td>\n",
       "      <td>3</td>\n",
       "      <td>5</td>\n",
       "      <td>3788</td>\n",
       "      <td>37612</td>\n",
       "      <td>3</td>\n",
       "      <td>8</td>\n",
       "      <td>8</td>\n",
       "      <td>503</td>\n",
       "      <td>145</td>\n",
       "    </tr>\n",
       "    <tr>\n",
       "      <th>top</th>\n",
       "      <td>Suministro de medicamentos de uso humano Tipo ...</td>\n",
       "      <td>Instituto Tecnológico de Canarias S.A.</td>\n",
       "      <td>Contrato menor</td>\n",
       "      <td>Ordinaria</td>\n",
       "      <td>_Z</td>\n",
       "      <td>2021/01/21 00:00:00.000</td>\n",
       "      <td>_U</td>\n",
       "      <td>_U</td>\n",
       "      <td>52/F/22/SU/GE/T/002</td>\n",
       "      <td>https://contrataciondelestado.es/wps/poc?uri=d...</td>\n",
       "      <td>...</td>\n",
       "      <td>2023/03/17 00:00:00.000</td>\n",
       "      <td>Perfil del Contratante</td>\n",
       "      <td>Adjudicado</td>\n",
       "      <td>_U</td>\n",
       "      <td>https://contrataciondelestado.es/sindicacion/C...</td>\n",
       "      <td>NO</td>\n",
       "      <td>_U</td>\n",
       "      <td>_U</td>\n",
       "      <td>_U</td>\n",
       "      <td>_U</td>\n",
       "    </tr>\n",
       "    <tr>\n",
       "      <th>freq</th>\n",
       "      <td>388</td>\n",
       "      <td>6337</td>\n",
       "      <td>28732</td>\n",
       "      <td>33700</td>\n",
       "      <td>36191</td>\n",
       "      <td>333</td>\n",
       "      <td>1298</td>\n",
       "      <td>1298</td>\n",
       "      <td>144</td>\n",
       "      <td>144</td>\n",
       "      <td>...</td>\n",
       "      <td>1405</td>\n",
       "      <td>40034</td>\n",
       "      <td>40126</td>\n",
       "      <td>35903</td>\n",
       "      <td>144</td>\n",
       "      <td>36916</td>\n",
       "      <td>40463</td>\n",
       "      <td>40463</td>\n",
       "      <td>40058</td>\n",
       "      <td>41611</td>\n",
       "    </tr>\n",
       "  </tbody>\n",
       "</table>\n",
       "<p>4 rows × 23 columns</p>\n",
       "</div>"
      ],
      "text/plain": [
       "                                          objeto_contrato  \\\n",
       "count                                               42831   \n",
       "unique                                              32948   \n",
       "top     Suministro de medicamentos de uso humano Tipo ...   \n",
       "freq                                                  388   \n",
       "\n",
       "                          entidad_adjudicadora procedimiento_contratacion  \\\n",
       "count                                    42831                      42831   \n",
       "unique                                     167                          8   \n",
       "top     Instituto Tecnológico de Canarias S.A.             Contrato menor   \n",
       "freq                                      6337                      28732   \n",
       "\n",
       "       tramitacion_tipo   lote       adjudicacion_fecha adjudicataria_nif  \\\n",
       "count             42831  42831                    42831             42831   \n",
       "unique                4    317                     1095              9268   \n",
       "top           Ordinaria     _Z  2021/01/21 00:00:00.000                _U   \n",
       "freq              33700  36191                      333              1298   \n",
       "\n",
       "       importe_ofertado    expediente_numero  \\\n",
       "count             42831                42831   \n",
       "unique            25187                37067   \n",
       "top                  _U  52/F/22/SU/GE/T/002   \n",
       "freq               1298                  144   \n",
       "\n",
       "                                        licitacion_enlace  ...  \\\n",
       "count                                               42831  ...   \n",
       "unique                                              37549  ...   \n",
       "top     https://contrataciondelestado.es/wps/poc?uri=d...  ...   \n",
       "freq                                                  144  ...   \n",
       "\n",
       "              publicacion_fecha       publicacion_medio licitacion_resultado  \\\n",
       "count                     42831                   42831                42831   \n",
       "unique                     1026                       3                    5   \n",
       "top     2023/03/17 00:00:00.000  Perfil del Contratante           Adjudicado   \n",
       "freq                       1405                   40034                40126   \n",
       "\n",
       "       pliego_enlace                          perfil_contratante_enlace  \\\n",
       "count          42831                                              42831   \n",
       "unique          3788                                              37612   \n",
       "top               _U  https://contrataciondelestado.es/sindicacion/C...   \n",
       "freq           35903                                                144   \n",
       "\n",
       "       financiacion_europea fuente_financiacion_id fuente_financiacion  \\\n",
       "count                 42831                  42831               42831   \n",
       "unique                    3                      8                   8   \n",
       "top                      NO                     _U                  _U   \n",
       "freq                  36916                  40463               40463   \n",
       "\n",
       "       localizador_programa_ue formula_revision_precios  \n",
       "count                    42831                    42831  \n",
       "unique                     503                      145  \n",
       "top                         _U                       _U  \n",
       "freq                     40058                    41611  \n",
       "\n",
       "[4 rows x 23 columns]"
      ]
     },
     "execution_count": 4,
     "metadata": {},
     "output_type": "execute_result"
    }
   ],
   "source": [
    "df.describe(include='all')"
   ]
  },
  {
   "cell_type": "markdown",
   "id": "3201b070",
   "metadata": {},
   "source": [
    "Para contestar las preguntas objetivo, solamente necesitaremos las siguientes variables de nuestra tabla de datos:\n",
    "\n",
    "- adjudicacion_fecha: Fecha de adjudicación del contrato.\n",
    "- adjudicataria_nif: NIF empresa a la que se adjudica y se formaliza el contrato.\n",
    "- importe_ofertado: Importe finalmente ofertado y aceptado."
   ]
  },
  {
   "cell_type": "markdown",
   "id": "e0b28763",
   "metadata": {},
   "source": [
    "### ¿Cuál es el monto total de contratos adjudicados y formalizados en el período de tiempo estudiado? <a class=\"anchor\" id=\"pregunta1\"></a>"
   ]
  },
  {
   "cell_type": "code",
   "execution_count": 5,
   "id": "6317b0bb",
   "metadata": {},
   "outputs": [
    {
     "data": {
      "text/plain": [
       "42831"
      ]
     },
     "execution_count": 5,
     "metadata": {},
     "output_type": "execute_result"
    }
   ],
   "source": [
    "len(df)"
   ]
  },
  {
   "cell_type": "code",
   "execution_count": 6,
   "id": "d4e72c0c",
   "metadata": {},
   "outputs": [
    {
     "data": {
      "text/plain": [
       "9268"
      ]
     },
     "execution_count": 6,
     "metadata": {},
     "output_type": "execute_result"
    }
   ],
   "source": [
    "df.adjudicataria_nif.nunique()"
   ]
  },
  {
   "cell_type": "markdown",
   "id": "0477680b",
   "metadata": {},
   "source": [
    "Desde el 1 de enero de 2020 hasta el primer trimestre de 2023 se han adjudicado y formalizado 42.831 contratos por el Gobierno de Canarias. Y un total de 9.268 valores distintos en la variable `\"adjudicataria_nif\"`."
   ]
  },
  {
   "cell_type": "markdown",
   "id": "58105cd1",
   "metadata": {},
   "source": [
    "### ¿Cuántos contratos se adjudicaron en cada uno de los años del período de tiempo estudiado? <a class=\"anchor\" id=\"pregunta2\"></a>"
   ]
  },
  {
   "cell_type": "markdown",
   "id": "c81956fd",
   "metadata": {},
   "source": [
    "Para agrupar los contratos por año debemos convertir a formato fecha la columna `\"adjudicacion fecha\"` y posteriormente crear una nueva columna extrayendo solamente el año a la cual llamaremos `\"adjudicacion_año\"`."
   ]
  },
  {
   "cell_type": "code",
   "execution_count": 7,
   "id": "39bffb77",
   "metadata": {
    "scrolled": true
   },
   "outputs": [
    {
     "name": "stdout",
     "output_type": "stream",
     "text": [
      "2021    15866\n",
      "2022    13691\n",
      "2020    10676\n",
      "2023     2598\n",
      "Name: adjudicacion_año, dtype: int64\n"
     ]
    }
   ],
   "source": [
    "# Convertir 'adjudicacon_fecha' a formato fecha:\n",
    "df.adjudicacion_fecha = pd.to_datetime(df.adjudicacion_fecha)\n",
    "\n",
    "# Extraer el año en una nueva columna 'adjudicacion_año':\n",
    "df['adjudicacion_año'] = df.adjudicacion_fecha.dt.year\n",
    "df.adjudicacion_año = df.adjudicacion_año.astype(str)\n",
    "\n",
    "# Contar valores por año:\n",
    "print(df.adjudicacion_año.value_counts())"
   ]
  },
  {
   "cell_type": "code",
   "execution_count": 8,
   "id": "d52b7d51",
   "metadata": {},
   "outputs": [
    {
     "name": "stdout",
     "output_type": "stream",
     "text": [
      "2023-03-31 00:00:00\n",
      "2020-01-01 00:00:00\n"
     ]
    }
   ],
   "source": [
    "# Rango de fechas de adjudicación de contratos:\n",
    "print(df.adjudicacion_fecha.max())\n",
    "print(df.adjudicacion_fecha.min())"
   ]
  },
  {
   "cell_type": "markdown",
   "id": "ed74707b",
   "metadata": {},
   "source": [
    "Para representar los datos obtenidos, es conveniente representarlos graficamente para que resulte más directa e intuitiva su interpretación. Para ello, usaremos dos de las librerias más conocidas."
   ]
  },
  {
   "cell_type": "code",
   "execution_count": 9,
   "id": "d39e66bf",
   "metadata": {},
   "outputs": [],
   "source": [
    "# importar librerias para crear graficos:\n",
    "import matplotlib.pyplot as plt\n",
    "import seaborn as sns"
   ]
  },
  {
   "cell_type": "code",
   "execution_count": 10,
   "id": "417fc71d",
   "metadata": {},
   "outputs": [
    {
     "data": {
      "text/plain": [
       "<function matplotlib.pyplot.clf()>"
      ]
     },
     "execution_count": 10,
     "metadata": {},
     "output_type": "execute_result"
    },
    {
     "data": {
      "image/png": "[encoded data removed]",
      "text/plain": [
       "<Figure size 432x288 with 1 Axes>"
      ]
     },
     "metadata": {},
     "output_type": "display_data"
    }
   ],
   "source": [
    "# Aplicamos un estilo general a todos los gráficos con la libreria seaborn:\n",
    "sns.set_style(\"whitegrid\")\n",
    "\n",
    "sns.countplot(x=df.adjudicacion_año, color='#80aaff')\n",
    "plt.title('Numero de ajudicaciones por año', fontsize=20)\n",
    "plt.xlabel('Año de adjudicación', fontsize=15)\n",
    "plt.ylabel('Contador')\n",
    "plt.text(1.8, 15000, '*2023 sólo primer trimestre*')\n",
    "plt.show\n",
    "plt.clf"
   ]
  },
  {
   "cell_type": "markdown",
   "id": "8c4346d2",
   "metadata": {},
   "source": [
    "El rango en el que se formalizan y se adjudican los contratos comienzan desde el 1 de enero de 2020 hasta el 31 de marzo de 2023. Los contratos adjudicados anualmente desde 2020 hasta el primer trimestre de 2023 son 15.866, 13.691, 10.676, 2.598 respectivamente."
   ]
  },
  {
   "cell_type": "markdown",
   "id": "06528843",
   "metadata": {},
   "source": [
    "##### Un paréntesis con las preguntas objetivo para obsevar como se distribuyen los valores de la variable \"importe_ofertado\" <a class=\"anchor\" id=\"analisis\"></a>"
   ]
  },
  {
   "cell_type": "markdown",
   "id": "8d1d1a46",
   "metadata": {},
   "source": [
    "Usamos el metodo `\"value_counts\"` de Pandas para observar cuantas veces se repiten los mismos valores."
   ]
  },
  {
   "cell_type": "code",
   "execution_count": 11,
   "id": "09c57713",
   "metadata": {},
   "outputs": [
    {
     "data": {
      "text/plain": [
       "_U          1298\n",
       "0,0          300\n",
       "14000,0      276\n",
       "14900,0      246\n",
       "14950,0      152\n",
       "            ... \n",
       "4352,0         1\n",
       "6823,89        1\n",
       "5174,85        1\n",
       "3643,2         1\n",
       "183150,0       1\n",
       "Name: importe_ofertado, Length: 25187, dtype: int64"
      ]
     },
     "execution_count": 11,
     "metadata": {},
     "output_type": "execute_result"
    }
   ],
   "source": [
    "df.importe_ofertado.value_counts()"
   ]
  },
  {
   "cell_type": "markdown",
   "id": "7d48235f",
   "metadata": {},
   "source": [
    "La variable `'importe_ofertado'` ofrece los datos en formato cadena y para el estudio nos interesa pasarlos a formato de número. Además, el valor con más frecuencia es `'_U'` repitiendose casi 1.300 veces en un total de 42.831 registros. Tras acceder al diccionario ofrecido por la fuente de datos (Canarias Datos Abiertos) el valor \"_U\" siginifica \"datos desconocido o que no consta\".\n",
    "\n",
    "Vamos a optar por reemplazar el valor `\"_U\"` por el valor `\"0.0\"` y luego pasaremos todos los datos al formato número entero (`float`). Así, coseguiremos limpiar los valores para poder aplicar el metodo EDA (Análisis Exploratorio de Datos, siglas del Inglés). "
   ]
  },
  {
   "cell_type": "code",
   "execution_count": 12,
   "id": "e52be3cf",
   "metadata": {},
   "outputs": [],
   "source": [
    "# Reemplazar el valor \"_U\" y convertir a formato número entero:\n",
    "df.importe_ofertado = df.importe_ofertado.replace('_U','0,0')\n",
    "df.importe_ofertado = df.importe_ofertado.str.replace(',', '.').astype(float)"
   ]
  },
  {
   "cell_type": "markdown",
   "id": "2a697383",
   "metadata": {},
   "source": [
    "Principales datos estadisticos de la variable `'importe_ofertado'` y comprobación de su distribución."
   ]
  },
  {
   "cell_type": "code",
   "execution_count": 13,
   "id": "31f72ff6",
   "metadata": {},
   "outputs": [
    {
     "data": {
      "text/plain": [
       "count    4.283100e+04\n",
       "mean     6.145250e+04\n",
       "std      9.006410e+05\n",
       "min      0.000000e+00\n",
       "25%      4.999350e+02\n",
       "50%      3.456000e+03\n",
       "75%      1.443750e+04\n",
       "max      8.926544e+07\n",
       "Name: importe_ofertado, dtype: float64"
      ]
     },
     "execution_count": 13,
     "metadata": {},
     "output_type": "execute_result"
    }
   ],
   "source": [
    "df.importe_ofertado.describe()"
   ]
  },
  {
   "cell_type": "code",
   "execution_count": 14,
   "id": "521192cb",
   "metadata": {},
   "outputs": [
    {
     "data": {
      "text/plain": [
       "<AxesSubplot:xlabel='importe_ofertado', ylabel='Count'>"
      ]
     },
     "execution_count": 14,
     "metadata": {},
     "output_type": "execute_result"
    },
    {
     "data": {
      "image/png": "[encoded data removed]",
      "text/plain": [
       "<Figure size 432x288 with 1 Axes>"
      ]
     },
     "metadata": {},
     "output_type": "display_data"
    }
   ],
   "source": [
    "sns.histplot(x=df.importe_ofertado[df.importe_ofertado < 30000], color='#80aaff')"
   ]
  },
  {
   "cell_type": "markdown",
   "id": "75044699",
   "metadata": {},
   "source": [
    "El rango de la muestra va desde 0 hasta 89.265.440 euros. La mediana es de 3.456 euros, un valor muy alejado del valor medio 61.452,5 euros, por ello, podemos confirmar que se trata de una **distribución fuertemente sesgada a la derecha**. Además, este resultado se muestra a través del histograma, el cual se ha tenido que limitar a 30.000€ (excluyendo los valores atípicos) para poder realizar una representación adecuada.\n",
    "\n",
    "Cuando se trabaja con una distribución fuertemente sesgada a la derecha, existen diversas técnicas que se pueden utilizar para analizar y comprender mejor los datos. En este caso, **aplicaremos una transformación logarítmica**. Esto puede ayudar a reducir el sesgo y hacer que los datos se distribuyan de manera más uniforme."
   ]
  },
  {
   "cell_type": "code",
   "execution_count": 15,
   "id": "37dc75db",
   "metadata": {},
   "outputs": [],
   "source": [
    "# necesitamos la libreria numpy:\n",
    "import numpy as np"
   ]
  },
  {
   "cell_type": "code",
   "execution_count": 16,
   "id": "d5bce6b5",
   "metadata": {},
   "outputs": [],
   "source": [
    "# aplicamos una función lambda para asegurarnos de que los valores negativos o ceros se conviertan en valores positivos cercanos a cero antes de aplicar la transformación logarítmica y luego guardamos en una nueva tabla llamada 'df_no_cero':\n",
    "df_no_cero = df.importe_ofertado.apply(lambda x: max(x, 0.0001))\n",
    "\n",
    "# Aplicar la transformación logarítmica y guardar en df_no_cero_log\n",
    "df_no_cero_log = np.log(df_no_cero)"
   ]
  },
  {
   "cell_type": "code",
   "execution_count": 17,
   "id": "4ece21d8",
   "metadata": {},
   "outputs": [
    {
     "data": {
      "text/plain": [
       "<AxesSubplot:xlabel='importe_ofertado', ylabel='Count'>"
      ]
     },
     "execution_count": 17,
     "metadata": {},
     "output_type": "execute_result"
    },
    {
     "data": {
      "image/png": "[encoded data removed]",
      "text/plain": [
       "<Figure size 432x288 with 1 Axes>"
      ]
     },
     "metadata": {},
     "output_type": "display_data"
    }
   ],
   "source": [
    "sns.histplot(x=df_no_cero_log, bins=100, color='#80aaff')"
   ]
  },
  {
   "cell_type": "markdown",
   "id": "199743bc",
   "metadata": {},
   "source": [
    "Después de aplicar una transformación logarítmica, el histograma resultante muestra una distribución normal, esto indica que la transformación logarítmica ha sido efectiva para reducir la asimetría y que se pueden aplicar técnicas estadísticas paramétricas que requieren normalidad.\n",
    "\n",
    "Aplicar técnicas de inferencia o predictivas no es el objetivo de este proyecto. En este apartado solamente se muestra como se debe adaptar una distribución para lograr la normalidad."
   ]
  },
  {
   "cell_type": "markdown",
   "id": "b1bfdd89",
   "metadata": {},
   "source": [
    "### ¿Qué empresas han obtenido los contratos de mayor valor en el período de tiempo estudiado? <a class=\"anchor\" id=\"pregunta3\"></a>"
   ]
  },
  {
   "cell_type": "markdown",
   "id": "a34f421f",
   "metadata": {},
   "source": [
    "Primero, debemos ordenar los valores segun `\"importe_ofertado\"` y mostrar la variable `\"adjudicataria_nif\"` para comprobar a que empresa pertenece el importe. Por lo tanto, vamos a ordenarlas de forma descendente por `\"importe_ofertado\"` y mostraremos los diez primeros resultados."
   ]
  },
  {
   "cell_type": "code",
   "execution_count": 18,
   "id": "8279f7f0",
   "metadata": {},
   "outputs": [
    {
     "name": "stdout",
     "output_type": "stream",
     "text": [
      "  adjudicataria_nif  importe_ofertado\n",
      "0            281650       89265445.00\n",
      "1            249240       86073741.63\n",
      "2         A41017161       53129850.00\n",
      "3         A78366382       46149440.03\n",
      "4         A08175994       44478547.57\n",
      "5         A35133511       43654277.60\n",
      "6            286443       40111000.00\n",
      "7         A28954618       32000000.00\n",
      "8         A08175994       31868936.65\n",
      "9         B47037577       20914800.00\n"
     ]
    }
   ],
   "source": [
    "mayores_importes_contratos = df[['adjudicataria_nif', 'importe_ofertado']].sort_values(by='importe_ofertado', ascending=False).head(10).reset_index(drop=True)\n",
    "print(mayores_importes_contratos)"
   ]
  },
  {
   "cell_type": "markdown",
   "id": "2110d551",
   "metadata": {},
   "source": [
    "Tras calcular las diez empresas con los mayores importer en contratos adjudicados y formalizados, nos encontramos que en la lista nos aparecen tres valores que no coinciden con el formato de NIF de empresa. Tras consultar la fuente de datos, esto se debe a que las contrataciones no han sido adjudicadas porque algunas empresas presentaron un recurso posterior y no se ha resuelto.\n",
    "\n",
    "Por lo tanto, vamos a eliminar los resultados que no muestren un NIF en la variable `\"adjudicataria_nif\"`. \n",
    "\n",
    "Para conservar solamente los valores que cumplan con el formato deseado, podemos usar el método `str.contains()` junto con una expresión regular que verifique si la cadena comienza con una letra y le siguen ocho dígitos numéricos:"
   ]
  },
  {
   "cell_type": "code",
   "execution_count": 19,
   "id": "82bf093e",
   "metadata": {},
   "outputs": [],
   "source": [
    "# importamos libreria para utilizar expresiones regulares:\n",
    "import re"
   ]
  },
  {
   "cell_type": "markdown",
   "id": "d57ca60e",
   "metadata": {},
   "source": [
    "El patrón que se utilizará significa lo siguiente:\n",
    "\n",
    "- ^: El inicio de la cadena.\n",
    "- \\[A-Za-z]\\: Una letra mayúscula o minúscula.\n",
    "- \\d{8}: Ocho dígitos.\n",
    "- $: El final de la cadena."
   ]
  },
  {
   "cell_type": "code",
   "execution_count": 20,
   "id": "36dd2b68",
   "metadata": {},
   "outputs": [
    {
     "data": {
      "text/html": [
       "<div>\n",
       "<style scoped>\n",
       "    .dataframe tbody tr th:only-of-type {\n",
       "        vertical-align: middle;\n",
       "    }\n",
       "\n",
       "    .dataframe tbody tr th {\n",
       "        vertical-align: top;\n",
       "    }\n",
       "\n",
       "    .dataframe thead th {\n",
       "        text-align: right;\n",
       "    }\n",
       "</style>\n",
       "<table border=\"1\" class=\"dataframe\">\n",
       "  <thead>\n",
       "    <tr style=\"text-align: right;\">\n",
       "      <th></th>\n",
       "      <th>adjudicataria_nif</th>\n",
       "      <th>importe_ofertado</th>\n",
       "    </tr>\n",
       "  </thead>\n",
       "  <tbody>\n",
       "    <tr>\n",
       "      <th>0</th>\n",
       "      <td>A41017161</td>\n",
       "      <td>53129850.00</td>\n",
       "    </tr>\n",
       "    <tr>\n",
       "      <th>1</th>\n",
       "      <td>A78366382</td>\n",
       "      <td>46149440.03</td>\n",
       "    </tr>\n",
       "    <tr>\n",
       "      <th>2</th>\n",
       "      <td>A08175994</td>\n",
       "      <td>44478547.57</td>\n",
       "    </tr>\n",
       "    <tr>\n",
       "      <th>3</th>\n",
       "      <td>A35133511</td>\n",
       "      <td>43654277.60</td>\n",
       "    </tr>\n",
       "    <tr>\n",
       "      <th>4</th>\n",
       "      <td>A28954618</td>\n",
       "      <td>32000000.00</td>\n",
       "    </tr>\n",
       "    <tr>\n",
       "      <th>5</th>\n",
       "      <td>A08175994</td>\n",
       "      <td>31868936.65</td>\n",
       "    </tr>\n",
       "    <tr>\n",
       "      <th>6</th>\n",
       "      <td>B47037577</td>\n",
       "      <td>20914800.00</td>\n",
       "    </tr>\n",
       "  </tbody>\n",
       "</table>\n",
       "</div>"
      ],
      "text/plain": [
       "  adjudicataria_nif  importe_ofertado\n",
       "0         A41017161       53129850.00\n",
       "1         A78366382       46149440.03\n",
       "2         A08175994       44478547.57\n",
       "3         A35133511       43654277.60\n",
       "4         A28954618       32000000.00\n",
       "5         A08175994       31868936.65\n",
       "6         B47037577       20914800.00"
      ]
     },
     "execution_count": 20,
     "metadata": {},
     "output_type": "execute_result"
    }
   ],
   "source": [
    "patron = r'^[A-Za-z]\\d{8}$'\n",
    "    \n",
    "# Lo guardamos en una variable que contiene el df filtrado:\n",
    "mayores_importes_contratos_solo_nif = mayores_importes_contratos[mayores_importes_contratos['adjudicataria_nif']\n",
    "                                                                 .str.contains(patron)].reset_index(drop=True)\n",
    "mayores_importes_contratos_solo_nif"
   ]
  },
  {
   "cell_type": "markdown",
   "id": "9066c128",
   "metadata": {},
   "source": [
    "Podemos comprobar que una vez aplicado el filtro solamente aparecen resultados con el formato que corresponden al NIF de empresas.\n",
    "\n",
    "Ahora pasamos los datos a un gráfico de barras usando la libreria Seaborn."
   ]
  },
  {
   "cell_type": "code",
   "execution_count": 21,
   "id": "83f609d0",
   "metadata": {},
   "outputs": [
    {
     "data": {
      "image/png": "[encoded data removed]",
      "text/plain": [
       "<Figure size 432x288 with 1 Axes>"
      ]
     },
     "metadata": {},
     "output_type": "display_data"
    },
    {
     "data": {
      "text/plain": [
       "<Figure size 432x288 with 0 Axes>"
      ]
     },
     "metadata": {},
     "output_type": "display_data"
    }
   ],
   "source": [
    "sns.barplot(data=mayores_importes_contratos_solo_nif, y='adjudicataria_nif', x='importe_ofertado', color='#80aaff')\n",
    "plt.title('Empresas con mayor importe por contrato adjudicado', fontsize=20)\n",
    "plt.xlabel('Importe', fontsize=15)\n",
    "plt.ylabel('NIF Empresa', fontsize=15)\n",
    "plt.show()\n",
    "plt.clf()"
   ]
  },
  {
   "cell_type": "markdown",
   "id": "772ffb67",
   "metadata": {},
   "source": [
    "Las empresas con mayor importe por contrato adjudicado y formalizado:\n",
    "\n",
    "| NIF     | Nombre de la empresa                          | Importe ofertado (millones) |\n",
    "|--------:|-----------------------------------------------|-----------------------------|\n",
    "|A41017161|FAASA AVIACION SA                              |          53,12              |\n",
    "|A78366382|SACYR SA; SOCIEDAD ANONIMA CAMINOS Y REGADIOS  |          46,14              |\n",
    "|A08175994|ACCIONA FACILITY SERVICES SA                   |          44,47              |\n",
    "|A35133511|TRANSPORTES AEREOS SANITARIOS ISLEÑOS SAU      |          43,65              |\n",
    "|A28954618|INICIATIVAS DE MEDIOS SA                       |          32,00              |\n",
    "|A08175994|ACCIONA FACILITY SERVICES SA                   |          31,86              |\n",
    "|B47037577|SAMYL FACILITY SERVICES SL                     |          20,91              |\n",
    "\n",
    "Ahora vamos a ver cuales son las empresas cuya suma del importe de contratos ofertados es la mayor. Para ello, vamos a agrupar las empresas por su NIF según la suma de importes ofertados."
   ]
  },
  {
   "cell_type": "code",
   "execution_count": 22,
   "id": "520e9d95",
   "metadata": {},
   "outputs": [],
   "source": [
    "adjudicatarias_por_importes = df.groupby(df.adjudicataria_nif)['importe_ofertado'].sum().reset_index()"
   ]
  },
  {
   "cell_type": "code",
   "execution_count": 23,
   "id": "ad7de879",
   "metadata": {},
   "outputs": [],
   "source": [
    "adjudicatarias_por_importes = adjudicatarias_por_importes.rename(columns={'importe_ofertado':'suma_importes_ofertados'})"
   ]
  },
  {
   "cell_type": "code",
   "execution_count": 24,
   "id": "0d3f4b2d",
   "metadata": {},
   "outputs": [
    {
     "data": {
      "text/html": [
       "<div>\n",
       "<style scoped>\n",
       "    .dataframe tbody tr th:only-of-type {\n",
       "        vertical-align: middle;\n",
       "    }\n",
       "\n",
       "    .dataframe tbody tr th {\n",
       "        vertical-align: top;\n",
       "    }\n",
       "\n",
       "    .dataframe thead th {\n",
       "        text-align: right;\n",
       "    }\n",
       "</style>\n",
       "<table border=\"1\" class=\"dataframe\">\n",
       "  <thead>\n",
       "    <tr style=\"text-align: right;\">\n",
       "      <th></th>\n",
       "      <th>adjudicataria_nif</th>\n",
       "      <th>suma_importes_ofertados</th>\n",
       "    </tr>\n",
       "  </thead>\n",
       "  <tbody>\n",
       "    <tr>\n",
       "      <th>0</th>\n",
       "      <td>A35133511</td>\n",
       "      <td>1.208645e+08</td>\n",
       "    </tr>\n",
       "    <tr>\n",
       "      <th>1</th>\n",
       "      <td>281650</td>\n",
       "      <td>8.926544e+07</td>\n",
       "    </tr>\n",
       "    <tr>\n",
       "      <th>2</th>\n",
       "      <td>249240</td>\n",
       "      <td>8.607374e+07</td>\n",
       "    </tr>\n",
       "    <tr>\n",
       "      <th>3</th>\n",
       "      <td>A08175994</td>\n",
       "      <td>7.634748e+07</td>\n",
       "    </tr>\n",
       "    <tr>\n",
       "      <th>4</th>\n",
       "      <td>A28925899</td>\n",
       "      <td>6.975276e+07</td>\n",
       "    </tr>\n",
       "    <tr>\n",
       "      <th>5</th>\n",
       "      <td>A78366382</td>\n",
       "      <td>6.014944e+07</td>\n",
       "    </tr>\n",
       "    <tr>\n",
       "      <th>6</th>\n",
       "      <td>A41017161</td>\n",
       "      <td>5.312985e+07</td>\n",
       "    </tr>\n",
       "    <tr>\n",
       "      <th>7</th>\n",
       "      <td>A08011074</td>\n",
       "      <td>5.081439e+07</td>\n",
       "    </tr>\n",
       "    <tr>\n",
       "      <th>8</th>\n",
       "      <td>A08023145</td>\n",
       "      <td>4.130005e+07</td>\n",
       "    </tr>\n",
       "    <tr>\n",
       "      <th>9</th>\n",
       "      <td>286443</td>\n",
       "      <td>4.011100e+07</td>\n",
       "    </tr>\n",
       "  </tbody>\n",
       "</table>\n",
       "</div>"
      ],
      "text/plain": [
       "  adjudicataria_nif  suma_importes_ofertados\n",
       "0         A35133511             1.208645e+08\n",
       "1            281650             8.926544e+07\n",
       "2            249240             8.607374e+07\n",
       "3         A08175994             7.634748e+07\n",
       "4         A28925899             6.975276e+07\n",
       "5         A78366382             6.014944e+07\n",
       "6         A41017161             5.312985e+07\n",
       "7         A08011074             5.081439e+07\n",
       "8         A08023145             4.130005e+07\n",
       "9            286443             4.011100e+07"
      ]
     },
     "execution_count": 24,
     "metadata": {},
     "output_type": "execute_result"
    }
   ],
   "source": [
    "mayores_adjudicatarias_suma_importes = adjudicatarias_por_importes.sort_values(by='suma_importes_ofertados', ascending=False).head(10).reset_index(drop=True)\n",
    "mayores_adjudicatarias_suma_importes"
   ]
  },
  {
   "cell_type": "code",
   "execution_count": 25,
   "id": "4a50d9be",
   "metadata": {},
   "outputs": [
    {
     "data": {
      "image/png": "[encoded data removed]",
      "text/plain": [
       "<Figure size 432x288 with 1 Axes>"
      ]
     },
     "metadata": {},
     "output_type": "display_data"
    },
    {
     "data": {
      "text/plain": [
       "<Figure size 432x288 with 0 Axes>"
      ]
     },
     "metadata": {},
     "output_type": "display_data"
    }
   ],
   "source": [
    "sns.barplot(data=mayores_adjudicatarias_suma_importes, y='adjudicataria_nif', x='suma_importes_ofertados', color='#80aaff')\n",
    "plt.title('Empresas con mayor suma importes por contratos adjudicados', fontsize=17)\n",
    "plt.xlabel('Importe', fontsize=15)\n",
    "plt.ylabel('NIF Empresa', fontsize=15)\n",
    "plt.show()\n",
    "plt.clf()"
   ]
  },
  {
   "cell_type": "markdown",
   "id": "a298abbd",
   "metadata": {},
   "source": [
    "Nos sucede lo mismo que en el caso anterior por lo que volvemos a eliminar los resultados que no muestren un NIF en la variable \"adjudicataria_nif\"."
   ]
  },
  {
   "cell_type": "code",
   "execution_count": 26,
   "id": "e9b2a130",
   "metadata": {},
   "outputs": [
    {
     "data": {
      "text/html": [
       "<div>\n",
       "<style scoped>\n",
       "    .dataframe tbody tr th:only-of-type {\n",
       "        vertical-align: middle;\n",
       "    }\n",
       "\n",
       "    .dataframe tbody tr th {\n",
       "        vertical-align: top;\n",
       "    }\n",
       "\n",
       "    .dataframe thead th {\n",
       "        text-align: right;\n",
       "    }\n",
       "</style>\n",
       "<table border=\"1\" class=\"dataframe\">\n",
       "  <thead>\n",
       "    <tr style=\"text-align: right;\">\n",
       "      <th></th>\n",
       "      <th>adjudicataria_nif</th>\n",
       "      <th>suma_importes_ofertados</th>\n",
       "    </tr>\n",
       "  </thead>\n",
       "  <tbody>\n",
       "    <tr>\n",
       "      <th>0</th>\n",
       "      <td>A35133511</td>\n",
       "      <td>1.208645e+08</td>\n",
       "    </tr>\n",
       "    <tr>\n",
       "      <th>1</th>\n",
       "      <td>A08175994</td>\n",
       "      <td>7.634748e+07</td>\n",
       "    </tr>\n",
       "    <tr>\n",
       "      <th>2</th>\n",
       "      <td>A28925899</td>\n",
       "      <td>6.975276e+07</td>\n",
       "    </tr>\n",
       "    <tr>\n",
       "      <th>3</th>\n",
       "      <td>A78366382</td>\n",
       "      <td>6.014944e+07</td>\n",
       "    </tr>\n",
       "    <tr>\n",
       "      <th>4</th>\n",
       "      <td>A41017161</td>\n",
       "      <td>5.312985e+07</td>\n",
       "    </tr>\n",
       "    <tr>\n",
       "      <th>5</th>\n",
       "      <td>A08011074</td>\n",
       "      <td>5.081439e+07</td>\n",
       "    </tr>\n",
       "    <tr>\n",
       "      <th>6</th>\n",
       "      <td>A08023145</td>\n",
       "      <td>4.130005e+07</td>\n",
       "    </tr>\n",
       "  </tbody>\n",
       "</table>\n",
       "</div>"
      ],
      "text/plain": [
       "  adjudicataria_nif  suma_importes_ofertados\n",
       "0         A35133511             1.208645e+08\n",
       "1         A08175994             7.634748e+07\n",
       "2         A28925899             6.975276e+07\n",
       "3         A78366382             6.014944e+07\n",
       "4         A41017161             5.312985e+07\n",
       "5         A08011074             5.081439e+07\n",
       "6         A08023145             4.130005e+07"
      ]
     },
     "execution_count": 26,
     "metadata": {},
     "output_type": "execute_result"
    }
   ],
   "source": [
    "patron = r'^[A-Za-z]\\d{8}$'\n",
    "    \n",
    "# Lo guardamos en una variable que contiene el df filtrado:\n",
    "mayores_adjudicatarias_suma_importes_solo_nif = mayores_adjudicatarias_suma_importes[\n",
    "    mayores_adjudicatarias_suma_importes['adjudicataria_nif'].str.contains(patron)].reset_index(drop=True)\n",
    "\n",
    "mayores_adjudicatarias_suma_importes_solo_nif"
   ]
  },
  {
   "cell_type": "markdown",
   "id": "5c72bd6a",
   "metadata": {},
   "source": [
    "Visulizamos los datos."
   ]
  },
  {
   "cell_type": "code",
   "execution_count": 27,
   "id": "f65f84bc",
   "metadata": {},
   "outputs": [
    {
     "data": {
      "image/png": "[encoded data removed]",
      "text/plain": [
       "<Figure size 432x288 with 1 Axes>"
      ]
     },
     "metadata": {},
     "output_type": "display_data"
    },
    {
     "data": {
      "text/plain": [
       "<Figure size 432x288 with 0 Axes>"
      ]
     },
     "metadata": {},
     "output_type": "display_data"
    }
   ],
   "source": [
    "sns.barplot(data=mayores_adjudicatarias_suma_importes_solo_nif, y='adjudicataria_nif', x='suma_importes_ofertados', color='#80aaff')\n",
    "plt.title('Empresas con mayor suma importes por contratos adjudicados', fontsize=17)\n",
    "plt.xlabel('Importe', fontsize=15)\n",
    "plt.ylabel('NIF Empresa', fontsize=15)\n",
    "plt.show()\n",
    "plt.clf()"
   ]
  },
  {
   "cell_type": "markdown",
   "id": "69c55ab2",
   "metadata": {},
   "source": [
    "Las empresas con mayor suma de importes de contratos adjudicados y formalizados:\n",
    "\n",
    "| NIF     | Nombre de la empresa                          | Importe ofertado (millones) |\n",
    "|--------:|-----------------------------------------------|-----------------------------|\n",
    "|A35133511|TRANSPORTES AEREOS SANITARIOS ISLEÑOS SAU      |         120,86              |\n",
    "|A08175994|ACCIONA FACILITY SERVICES SA                   |          76,34              |\n",
    "|A28925899|JANSSEN FARMACEUTICA SA                        |          69,75              |\n",
    "|A78366382|SACYR SA; SOCIEDAD ANONIMA CAMINOS Y REGADIOS  |          60,14              |\n",
    "|A41017161|FAASA AVIACION SA                              |          53,12              |\n",
    "|A08011074|NOVARTIS FARMACEUTICA SAU                      |          50,81              |\n",
    "|A08023145|ROCHE FARMA SA                                 |          41,30              |"
   ]
  },
  {
   "cell_type": "markdown",
   "id": "df5a92d0",
   "metadata": {},
   "source": [
    "La suma de los importes ofertados de todos los contratos adjudicados a las siete empresas con mayores valores suponen casi un 18% de la suma total de los importes ofertados. Es decir, solamente 7 empresas disponen de casi el 18% del importe de todos los contratos adjudicados."
   ]
  },
  {
   "cell_type": "code",
   "execution_count": 28,
   "id": "368f2b2d",
   "metadata": {},
   "outputs": [
    {
     "data": {
      "text/plain": [
       "17.9"
      ]
     },
     "execution_count": 28,
     "metadata": {},
     "output_type": "execute_result"
    }
   ],
   "source": [
    "round(((mayores_adjudicatarias_suma_importes_solo_nif.suma_importes_ofertados.sum()) / (df.importe_ofertado.sum())) * 100, 1)"
   ]
  },
  {
   "cell_type": "markdown",
   "id": "69805f4e",
   "metadata": {},
   "source": [
    "### ¿Qué empresas han obtenido el mayor número de contratos adjudicados y cuál es su porcentaje respecto al total? <a class=\"anchor\" id=\"pregunta4\"></a>"
   ]
  },
  {
   "cell_type": "markdown",
   "id": "e174ba95",
   "metadata": {},
   "source": [
    "Ahora vamos a agrupar las empresas por número de NIF, respecto al número de contratos de cada una. El número de contratos podemos calcularlo a traves del método `\"count\"` de la libreria de Pandas."
   ]
  },
  {
   "cell_type": "code",
   "execution_count": 29,
   "id": "26030bc5",
   "metadata": {},
   "outputs": [],
   "source": [
    "adjudicatarias_por_numero_contratos = df.groupby(df.adjudicataria_nif)['importe_ofertado'].count().reset_index()"
   ]
  },
  {
   "cell_type": "code",
   "execution_count": 30,
   "id": "30af5908",
   "metadata": {},
   "outputs": [],
   "source": [
    "adjudicatarias_por_numero_contratos = adjudicatarias_por_numero_contratos.rename(columns={'importe_ofertado':'numero_contratos'})"
   ]
  },
  {
   "cell_type": "code",
   "execution_count": 31,
   "id": "9bdd7872",
   "metadata": {},
   "outputs": [
    {
     "data": {
      "text/html": [
       "<div>\n",
       "<style scoped>\n",
       "    .dataframe tbody tr th:only-of-type {\n",
       "        vertical-align: middle;\n",
       "    }\n",
       "\n",
       "    .dataframe tbody tr th {\n",
       "        vertical-align: top;\n",
       "    }\n",
       "\n",
       "    .dataframe thead th {\n",
       "        text-align: right;\n",
       "    }\n",
       "</style>\n",
       "<table border=\"1\" class=\"dataframe\">\n",
       "  <thead>\n",
       "    <tr style=\"text-align: right;\">\n",
       "      <th></th>\n",
       "      <th>adjudicataria_nif</th>\n",
       "      <th>numero_contratos</th>\n",
       "    </tr>\n",
       "  </thead>\n",
       "  <tbody>\n",
       "    <tr>\n",
       "      <th>0</th>\n",
       "      <td>A08011074</td>\n",
       "      <td>406</td>\n",
       "    </tr>\n",
       "    <tr>\n",
       "      <th>1</th>\n",
       "      <td>B35099506</td>\n",
       "      <td>374</td>\n",
       "    </tr>\n",
       "    <tr>\n",
       "      <th>2</th>\n",
       "      <td>A28925899</td>\n",
       "      <td>312</td>\n",
       "    </tr>\n",
       "    <tr>\n",
       "      <th>3</th>\n",
       "      <td>A28456820</td>\n",
       "      <td>282</td>\n",
       "    </tr>\n",
       "    <tr>\n",
       "      <th>4</th>\n",
       "      <td>A08163586</td>\n",
       "      <td>259</td>\n",
       "    </tr>\n",
       "    <tr>\n",
       "      <th>5</th>\n",
       "      <td>A08023145</td>\n",
       "      <td>257</td>\n",
       "    </tr>\n",
       "    <tr>\n",
       "      <th>6</th>\n",
       "      <td>B28089225</td>\n",
       "      <td>231</td>\n",
       "    </tr>\n",
       "    <tr>\n",
       "      <th>7</th>\n",
       "      <td>A35119015</td>\n",
       "      <td>222</td>\n",
       "    </tr>\n",
       "    <tr>\n",
       "      <th>8</th>\n",
       "      <td>B38095469</td>\n",
       "      <td>193</td>\n",
       "    </tr>\n",
       "    <tr>\n",
       "      <th>9</th>\n",
       "      <td>A28211092</td>\n",
       "      <td>191</td>\n",
       "    </tr>\n",
       "  </tbody>\n",
       "</table>\n",
       "</div>"
      ],
      "text/plain": [
       "  adjudicataria_nif  numero_contratos\n",
       "0         A08011074               406\n",
       "1         B35099506               374\n",
       "2         A28925899               312\n",
       "3         A28456820               282\n",
       "4         A08163586               259\n",
       "5         A08023145               257\n",
       "6         B28089225               231\n",
       "7         A35119015               222\n",
       "8         B38095469               193\n",
       "9         A28211092               191"
      ]
     },
     "execution_count": 31,
     "metadata": {},
     "output_type": "execute_result"
    }
   ],
   "source": [
    "mayores_adjudicatarias_por_numero_contratos = adjudicatarias_por_numero_contratos[adjudicatarias_por_numero_contratos.adjudicataria_nif != '_U']  \\\n",
    "    .sort_values(by='numero_contratos', ascending=False)  \\\n",
    "    .head(10).reset_index(drop=True)\n",
    "mayores_adjudicatarias_por_numero_contratos"
   ]
  },
  {
   "cell_type": "code",
   "execution_count": 32,
   "id": "23ad13c8",
   "metadata": {},
   "outputs": [
    {
     "data": {
      "image/png": "[encoded data removed]",
      "text/plain": [
       "<Figure size 432x288 with 1 Axes>"
      ]
     },
     "metadata": {},
     "output_type": "display_data"
    },
    {
     "data": {
      "text/plain": [
       "<Figure size 432x288 with 0 Axes>"
      ]
     },
     "metadata": {},
     "output_type": "display_data"
    }
   ],
   "source": [
    "sns.barplot(data=mayores_adjudicatarias_por_numero_contratos, y='adjudicataria_nif', x='numero_contratos', color='#80aaff')\n",
    "plt.show()\n",
    "plt.clf()"
   ]
  },
  {
   "cell_type": "markdown",
   "id": "15535977",
   "metadata": {},
   "source": [
    "Las empresas con mayor número de contratos adjudicados y formalizados:\n",
    "\n",
    "| NIF     | Nombre de la empresa                          | Número de contratos         |\n",
    "|--------:|-----------------------------------------------|-----------------------------|\n",
    "|A08011074|NOVARTIS FARMACEUTICA SAU                      |         406                 |\n",
    "|B35099506|FERRETERIA GERMAN MEDINA SL                    |         374                 |\n",
    "|A28925899|JANSSEN FARMACEUTICA SA                        |         312                 |\n",
    "|A28456820|LABORATORIOS NORMON SA                         |         282                 |\n",
    "|A08163586|SANOFI-AVENTIS, S.A                            |         259                 |\n",
    "|A08023145|ROCHE FARMA SA                                 |         257                 |\n",
    "|B28089225|PFIZER SL                                      |         231                 |\n",
    "|A35119015|ACJ SA                                         |         222                 |\n",
    "|B38095469|BIOSIGMA SL                                    |         193                 |\n",
    "|A28211092|MERCK SHARP & DOHME DE ESPAÑA SA               |         191                 |\n",
    "\n",
    "La empresa con mayor contratos adjudicados es Novartis Farmaceutica SAU con 406 sobre un total de 42831, representando casi el 1%."
   ]
  },
  {
   "cell_type": "markdown",
   "id": "005ee20a",
   "metadata": {},
   "source": [
    "##### Resumen <a class=\"anchor\" id=\"resumen\"></a>\n",
    "\n",
    "- Hay un total de 42.831 adjudicados y aproximadamente 9.268 empresas distintas (es aproximado porque algunos contratos no han llegado a fomarlizarse y no tienen un NIF definivo asignado).\n",
    "\n",
    "\n",
    "- Los contratos adjudicados anualmente desde 2020 hasta el primer trimestre de 2023 son 15.866, 13.691, 10.676, 2.598 respectivamente.\n",
    "\n",
    "\n",
    "- Se estudia la distribución de la variable \"importe_ofertado\". Llegamos a la conclusión de que la distribución esta fuertemente sesgada a la derecha, por lo que se aplica una transformación logaritmica y con ello se consigue una distribución normal para poder aplicar técnicas estadísticas que requieren dicha distribución.\n",
    "\n",
    "\n",
    "- Las empresas con mayor importe por contrato adjudicado y formalizado:\n",
    "\n",
    "| NIF     | Nombre de la empresa                          | Importe ofertado (millones) |\n",
    "|--------:|-----------------------------------------------|-----------------------------|\n",
    "|A41017161|FAASA AVIACION SA                              |          53,12              |\n",
    "|A78366382|SACYR SA; SOCIEDAD ANONIMA CAMINOS Y REGADIOS  |          46,14              |\n",
    "|A08175994|ACCIONA FACILITY SERVICES SA                   |          44,47              |\n",
    "|A35133511|TRANSPORTES AEREOS SANITARIOS ISLEÑOS SAU      |          43,65              |\n",
    "|A28954618|INICIATIVAS DE MEDIOS SA                       |          32,00              |\n",
    "|A08175994|ACCIONA FACILITY SERVICES SA                   |          31,86              |\n",
    "|B47037577|SAMYL FACILITY SERVICES SL                     |          20,91              |\n",
    "\n",
    "\n",
    "- Las empresas con mayor suma de importes de contratos adjudicados y formalizados:\n",
    "\n",
    "| NIF     | Nombre de la empresa                          | Importe ofertado (millones) |\n",
    "|--------:|-----------------------------------------------|-----------------------------|\n",
    "|A35133511|TRANSPORTES AEREOS SANITARIOS ISLEÑOS SAU      |         120,86              |\n",
    "|A08175994|ACCIONA FACILITY SERVICES SA                   |          76,34              |\n",
    "|A28925899|JANSSEN FARMACEUTICA SA                        |          69,75              |\n",
    "|A78366382|SACYR SA; SOCIEDAD ANONIMA CAMINOS Y REGADIOS  |          60,14              |\n",
    "|A41017161|FAASA AVIACION SA                              |          53,12              |\n",
    "|A08011074|NOVARTIS FARMACEUTICA SAU                      |          50,81              |\n",
    "|A08023145|ROCHE FARMA SA                                 |          41,30              |\n",
    "\n",
    "\n",
    "- Las empresas con mayor número de contratos adjudicados y formalizados:\n",
    "\n",
    "| NIF     | Nombre de la empresa                          | Número de contratos         |\n",
    "|--------:|-----------------------------------------------|-----------------------------|\n",
    "|A08011074|NOVARTIS FARMACEUTICA SAU                      |         406                 |\n",
    "|B35099506|FERRETERIA GERMAN MEDINA SL                    |         374                 |\n",
    "|A28925899|JANSSEN FARMACEUTICA SA                        |         312                 |\n",
    "|A28456820|LABORATORIOS NORMON SA                         |         282                 |\n",
    "|A08163586|SANOFI-AVENTIS, S.A                            |         259                 |\n",
    "|A08023145|ROCHE FARMA SA                                 |         257                 |\n",
    "|B28089225|PFIZER SL                                      |         231                 |\n",
    "|A35119015|ACJ SA                                         |         222                 |\n",
    "|B38095469|BIOSIGMA SL                                    |         193                 |\n",
    "|A28211092|MERCK SHARP & DOHME DE ESPAÑA SA               |         191                 |\n",
    "\n"
   ]
  },
  {
   "cell_type": "markdown",
   "id": "d1ff8184",
   "metadata": {},
   "source": [
    "##### Consideraciones finales <a class=\"anchor\" id=\"consideraciones\"></a>\n",
    "\n",
    "La tabla de datos aun contiene infomación que podemos analizar para extraer más conclusiones, por ejemplo, podríamos plantear para un futuro:\n",
    "\n",
    "- ¿Cuál es el objeto de contrato más frecuente? ¿Cúal es su porcentaje sobre el total? ¿Cuál es el importe ofertado más elevado por objeto de contrato?\n",
    "\n",
    "- Se podrían plantear las mismas preguntas para otras variables como `entidad_adjudicadora`, `procedimiento_contratacion`, `tramitacion_tipo`.\n",
    "\n",
    "Sin embargo, el proposito de este poyecto solamente es demostrar como se pueden ordenar y limpiar un conjunto de datos para obetener la información que necesitamos usando la librería `pandas` y realizar algunas representaciones gráficas con `matplotlib` y `seaborn`.\n"
   ]
  }
 ],
 "metadata": {
  "kernelspec": {
   "display_name": "Python 3",
   "language": "python",
   "name": "python3"
  },
  "language_info": {
   "codemirror_mode": {
    "name": "ipython",
    "version": 3
   },
   "file_extension": ".py",
   "mimetype": "text/x-python",
   "name": "python",
   "nbconvert_exporter": "python",
   "pygments_lexer": "ipython3",
   "version": "3.8.8"
  }
 },
 "nbformat": 4,
 "nbformat_minor": 5
}
